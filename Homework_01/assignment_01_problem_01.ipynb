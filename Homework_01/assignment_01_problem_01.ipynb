{
 "cells": [
  {
   "cell_type": "markdown",
   "metadata": {},
   "source": [
    "<h4 align=\"right\">by <a href=\"http://cse.iitkgp.ac.in/~adas/\">Abir Das</a> with help of <br> Ram Rakesh and Ankit Singh<br> </h4>"
   ]
  },
  {
   "cell_type": "markdown",
   "metadata": {},
   "source": [
    "### Write the following details here\n",
    "** Name: ** `<WRITE YOUR NAME HERE>`<br/>\n",
    "** Roll Number: ** `<WRITE YOUR ROLL NUMBER HERE>`<br/>\n",
    "** Department: ** `<WRITE YOUR DEPARTMENT HERE>`<br/>\n",
    "** Email: ** `<WRITE YOUR EMAIL ID HERE>`"
   ]
  },
  {
   "cell_type": "markdown",
   "metadata": {},
   "source": [
    "# Problem Set 1 "
   ]
  },
  {
   "cell_type": "markdown",
   "metadata": {},
   "source": [
    "## Preamble\n",
    "\n",
    "To run and solve this assignment, one must have a working IPython Notebook installation. The easiest way to set it up for both Windows and Linux is to install [Anaconda](https://www.continuum.io/downloads). Then save this file ([`assignment_01.ipynb`]()) to your computer, run Anaconda and choose this file in Anaconda's file explorer. Use `Python 3` version. Below statements assume that you have already followed these instructions. If you are new to Python or its scientific library, Numpy, there are some nice tutorials [here](https://www.learnpython.org/) and [here](http://www.scipy-lectures.org/)."
   ]
  },
  {
   "cell_type": "markdown",
   "metadata": {},
   "source": [
    "### Problem: You will implement the perceptron algorithm in this problem\n",
    "We marked places where you are expected to add/change your own code with **`##### write your code below #####`** comment."
   ]
  },
  {
   "cell_type": "code",
   "execution_count": null,
   "metadata": {
    "collapsed": true
   },
   "outputs": [],
   "source": [
    "# Import the libraries\n",
    "%matplotlib inline\n",
    "import matplotlib.pyplot as plt\n",
    "import numpy as np"
   ]
  },
  {
   "cell_type": "code",
   "execution_count": null,
   "metadata": {
    "collapsed": true
   },
   "outputs": [],
   "source": [
    "# Read training data from data_prob_01.txt and store in a numpy array called 'x'.\n",
    "# As 40 data points are present, 'x' will be a 40x2 array where each row is one data point.\n",
    "# Store the labels in 'y'. It will be 40 length numpy array.\n",
    "# Each data is two dimensional and labels are +1 for the positive class while -1\n",
    "# for the negative class\n",
    "fileName=\"./data/data_prob_01.txt\"\n",
    "with open(fileName) as file:\n",
    "    lines =  [line.split() for line in file ]\n",
    "data = np.array(lines,dtype='float32')\n",
    "X = data[:,:2]\n",
    "y = data[:,-1]"
   ]
  },
  {
   "cell_type": "code",
   "execution_count": null,
   "metadata": {
    "collapsed": true
   },
   "outputs": [],
   "source": [
    "# Initialize weight\n",
    "w = np.array([0.0, 0.0]) #\n",
    "# while no examples are misclassified run the perceptron algorithm (refer to the slides for the algorithm)\n",
    "########################## write your code below ##############################################\n",
    "\n",
    "\n",
    "# Finally w contains the trained weights\n",
    "###############################################################################################"
   ]
  },
  {
   "cell_type": "markdown",
   "metadata": {},
   "source": [
    "### Scatter plot the data points and plot the straight line given by the trained weights w"
   ]
  },
  {
   "cell_type": "code",
   "execution_count": null,
   "metadata": {},
   "outputs": [],
   "source": [
    "epsilon=1e-18\n",
    "indexes_with_class1 = y==1\n",
    "plt.figure(figsize=(10,10))\n",
    "plt.scatter(X[indexes_with_class1][:,0],X[indexes_with_class1][:,1], color='r', marker='P')\n",
    "plt.scatter(X[~indexes_with_class1][:,0],X[~indexes_with_class1][:,1], color='g', marker='o')\n",
    "plt.grid()\n",
    "\n",
    "# weightplot\n",
    "plt.xlim(-12,12)\n",
    "plt.ylim(-12,12)\n",
    "slope = (-w[0])/(w[1]+epsilon) # to ensure no division by zero\n",
    "xx = np.linspace(-15, 15)\n",
    "yy = slope * xx\n",
    "plt.plot(xx,yy,color='k', linestyle='-', linewidth=2)\n",
    "plt.show()"
   ]
  }
 ],
 "metadata": {
  "kernelspec": {
   "display_name": "Python 3",
   "language": "python",
   "name": "python3"
  },
  "language_info": {
   "codemirror_mode": {
    "name": "ipython",
    "version": 3
   },
   "file_extension": ".py",
   "mimetype": "text/x-python",
   "name": "python",
   "nbconvert_exporter": "python",
   "pygments_lexer": "ipython3",
   "version": "3.6.4"
  }
 },
 "nbformat": 4,
 "nbformat_minor": 2
}
